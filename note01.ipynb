{
 "cells": [
  {
   "cell_type": "code",
   "execution_count": 7,
   "id": "25977590-5b3b-4143-b814-6cc0a2b9c232",
   "metadata": {},
   "outputs": [],
   "source": [
    "import tensorflow as tf\n",
    "import timeit"
   ]
  },
  {
   "cell_type": "code",
   "execution_count": 2,
   "id": "b6e8edc1-6695-4fe4-b925-0260307f6266",
   "metadata": {},
   "outputs": [
    {
     "name": "stdout",
     "output_type": "stream",
     "text": [
      "a+b= tf.Tensor(6.0, shape=(), dtype=float32)\n"
     ]
    }
   ],
   "source": [
    "\n",
    "a = tf.constant(2.)\n",
    "b = tf.constant(4.)\n",
    "\n",
    "print('a+b=',a+b)"
   ]
  },
  {
   "cell_type": "code",
   "execution_count": 5,
   "id": "ed238f71-8b1e-40cc-be88-46496bc3f87d",
   "metadata": {},
   "outputs": [
    {
     "name": "stdout",
     "output_type": "stream",
     "text": [
      "/job:localhost/replica:0/task:0/device:CPU:0 /job:localhost/replica:0/task:0/device:CPU:0\n",
      "/job:localhost/replica:0/task:0/device:GPU:0 /job:localhost/replica:0/task:0/device:GPU:0\n"
     ]
    }
   ],
   "source": [
    "# Create two matrices running on CPU    \n",
    "\n",
    "n=10\n",
    "\n",
    "with tf.device('/cpu:0'):\n",
    "    cpu_a = tf.random.normal([1, n])\n",
    "    cpu_b = tf.random.normal([n, 1])\n",
    "    print(cpu_a.device, cpu_b.device)\n",
    "\n",
    "# Create two matrices running on GPU\n",
    "with tf.device('/gpu:0'):\n",
    "    gpu_a = tf.random.normal([1, n])\n",
    "    gpu_b = tf.random.normal([n, 1])\n",
    "    print(gpu_a.device, gpu_b.device)\n",
    "\n",
    "    \n",
    "# CPU function\n",
    "def cpu_run():\n",
    "    with tf.device('/cpu:0'):\n",
    "        c = tf.matmul(cpu_a, cpu_b)\n",
    "        return c\n",
    "\n",
    "# GPU function\n",
    "def gpu_run():\n",
    "    with tf.device('/gpu:0'):\n",
    "        c = tf.matmul(gpu_a, gpu_b)\n",
    "        return c"
   ]
  },
  {
   "cell_type": "code",
   "execution_count": 8,
   "id": "a45e9f83-f3cc-4893-8ae7-7569fa58befa",
   "metadata": {},
   "outputs": [
    {
     "name": "stdout",
     "output_type": "stream",
     "text": [
      "warmup: 0.8205921320000016 17.442993545000036\n"
     ]
    }
   ],
   "source": [
    "# First calculation needs warm-up\n",
    "cpu_time = timeit.timeit(cpu_run, number=10)\n",
    "gpu_time = timeit.timeit(gpu_run, number=10)\n",
    "print('warmup:', cpu_time, gpu_time)"
   ]
  },
  {
   "cell_type": "code",
   "execution_count": 9,
   "id": "f7ca07cb-0cfe-412d-9e43-055cfc89771f",
   "metadata": {},
   "outputs": [
    {
     "name": "stdout",
     "output_type": "stream",
     "text": [
      "run time: 0.002644379999992452 0.0018398150000393798\n"
     ]
    }
   ],
   "source": [
    "# Calculate and print mean running time\n",
    "cpu_time = timeit.timeit(cpu_run, number=10)\n",
    "gpu_time = timeit.timeit(gpu_run, number=10)\n",
    "print('run time:', cpu_time, gpu_time)"
   ]
  },
  {
   "cell_type": "code",
   "execution_count": 10,
   "id": "7828b998-2b49-4430-ab41-ab653f8e9a8e",
   "metadata": {},
   "outputs": [
    {
     "name": "stdout",
     "output_type": "stream",
     "text": [
      "WARNING:tensorflow:From /tmp/ipykernel_8259/337460670.py:1: is_gpu_available (from tensorflow.python.framework.test_util) is deprecated and will be removed in a future version.\n",
      "Instructions for updating:\n",
      "Use `tf.config.list_physical_devices('GPU')` instead.\n"
     ]
    },
    {
     "data": {
      "text/plain": [
       "True"
      ]
     },
     "execution_count": 10,
     "metadata": {},
     "output_type": "execute_result"
    }
   ],
   "source": [
    "tf.test.is_gpu_available()"
   ]
  },
  {
   "cell_type": "code",
   "execution_count": null,
   "id": "2be2e478-7ca2-4e99-851c-5024030a0392",
   "metadata": {},
   "outputs": [],
   "source": []
  }
 ],
 "metadata": {
  "kernelspec": {
   "display_name": "conda_tensorflow2_p310",
   "language": "python",
   "name": "conda_tensorflow2_p310"
  },
  "language_info": {
   "codemirror_mode": {
    "name": "ipython",
    "version": 3
   },
   "file_extension": ".py",
   "mimetype": "text/x-python",
   "name": "python",
   "nbconvert_exporter": "python",
   "pygments_lexer": "ipython3",
   "version": "3.10.6"
  }
 },
 "nbformat": 4,
 "nbformat_minor": 5
}
